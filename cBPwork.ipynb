{
 "cells": [
  {
   "cell_type": "code",
   "execution_count": null,
   "metadata": {},
   "outputs": [],
   "source": [
    "import requests\n",
    "import json"
   ]
  },
  {
   "cell_type": "code",
   "execution_count": null,
   "metadata": {},
   "outputs": [],
   "source": [
    "r = requests.get(url=\"https://www.cbioportal.org/api/health\")\n",
    "print (r.json())\n",
    "print (r.status_code)"
   ]
  },
  {
   "cell_type": "markdown",
   "metadata": {},
   "source": [
    "Part 1: Retrieve and display patient data. User must provide a valid patient and study Id. \n",
    "Example uses\n",
    "patient: P-0000004 \n",
    "study: msk_impact_2017"
   ]
  },
  {
   "cell_type": "code",
   "execution_count": null,
   "metadata": {},
   "outputs": [],
   "source": [
    "r = requests.get(url=\"https://www.cbioportal.org/api/studies/msk_impact_2017/patients/P-0000004/clinical-data\")\n",
    "x = r.json()\n",
    "print (x)"
   ]
  },
  {
   "cell_type": "markdown",
   "metadata": {},
   "source": [
    "Part 2: Find patients similar to a specified patient. Search within the same study, uses one criteria. \n",
    "Example uses\n",
    "patient: P-0000004 \n",
    "study: msk_impact_2017\n",
    "attribute (not recorded across all studies): SMOKING_HISTORY"
   ]
  },
  {
   "cell_type": "code",
   "execution_count": null,
   "metadata": {},
   "outputs": [],
   "source": [
    "# get patient attribute\n",
    "r = requests.get(url=\"https://www.cbioportal.org/api/studies/msk_impact_2017/patients/P-0000004/clinical-data?attributeId=SMOKING_HISTORY&projection=SUMMARY&pageSize=10000000&pageNumber=0&direction=ASC\")\n",
    "# parse for correct item (attribute)\n",
    "# x in the following line returns a list with the keyval pairs, it needs to be taken out of the list to be parsed in the next line\n",
    "x = r.json()\n",
    "y = x[0]\n",
    "pval = y['value']\n",
    "print (y['clinicalAttributeId'])\n",
    "print (pval)\n",
    "# Get list of patients from study\n",
    "print (\"matching patients\")\n",
    "rs = requests.get(url=\"https://www.cbioportal.org/api/studies/msk_impact_2017/clinical-data?attributeId=SMOKING_HISTORY&clinicalDataType=PATIENT&projection=SUMMARY&pageSize=20000&pageNumber=0&direction=ASC\")\n",
    "clist = rs.json()\n",
    "for a in clist:\n",
    "    if a['value'] == y['value']:\n",
    "        print (a['patientId'])"
   ]
  },
  {
   "cell_type": "markdown",
   "metadata": {},
   "source": [
    "Part 3: Find patients similar to a specified patient across multiple studies. Uses one criterion, needs to check if the criteria is available in other studies. If using a criteria not availible in all studies, it may be possible to find attributes with similar names or purposes (ex SMOKING_HISTORY vs SMOKE STATUS vs SMOKING_STATUS) that may not be picked up.\n",
    "https://www.cbioportal.org/study/summary?id=nsclc_tcga_broad_2016 and https://www.cbioportal.org/study/summary?id=msk_impact_2017 both have SMOKING_HISTORY, but the response types are different. This requires parsing sample data instead of patient data.\n",
    "Example uses\n",
    "patient:  P-0000004\n",
    "studies: msk_impact_2017, metastatic_solid_tumors_mich_2017, \n",
    "attribute: CANCER_TYPE\n"
   ]
  },
  {
   "cell_type": "code",
   "execution_count": 51,
   "metadata": {},
   "outputs": [
    {
     "name": "stdout",
     "output_type": "stream",
     "text": [
      "[{'uniqueSampleKey': 'UC0wMDAwMDA0LVQwMS1JTTM6bXNrX2ltcGFjdF8yMDE3', 'uniquePatientKey': 'UC0wMDAwMDA0Om1za19pbXBhY3RfMjAxNw', 'sampleType': 'Primary Solid Tumor', 'sampleId': 'P-0000004-T01-IM3', 'patientId': 'P-0000004', 'studyId': 'msk_impact_2017'}]\n",
      "P-0000004-T01-IM3\n",
      "[{'displayName': 'Cancer Type', 'description': 'Cancer Type', 'datatype': 'STRING', 'patientAttribute': False, 'priority': '1', 'clinicalAttributeId': 'CANCER_TYPE', 'studyId': 'msk_impact_2017'}, {'displayName': 'Cancer Type Detailed', 'description': 'Cancer Type Detailed', 'datatype': 'STRING', 'patientAttribute': False, 'priority': '1', 'clinicalAttributeId': 'CANCER_TYPE_DETAILED', 'studyId': 'msk_impact_2017'}, {'displayName': 'DNA Input', 'description': 'DNA Input', 'datatype': 'NUMBER', 'patientAttribute': False, 'priority': '1', 'clinicalAttributeId': 'DNA_INPUT', 'studyId': 'msk_impact_2017'}, {'displayName': 'Fraction Genome Altered', 'description': 'Fraction Genome Altered', 'datatype': 'NUMBER', 'patientAttribute': False, 'priority': '20', 'clinicalAttributeId': 'FRACTION_GENOME_ALTERED', 'studyId': 'msk_impact_2017'}, {'displayName': 'Matched Status', 'description': 'Matched Status', 'datatype': 'STRING', 'patientAttribute': False, 'priority': '1', 'clinicalAttributeId': 'MATCHED_STATUS', 'studyId': 'msk_impact_2017'}, {'displayName': 'Metastatic Site', 'description': 'The anatomic location to which the cancer has spread.', 'datatype': 'STRING', 'patientAttribute': False, 'priority': '1', 'clinicalAttributeId': 'METASTATIC_SITE', 'studyId': 'msk_impact_2017'}, {'displayName': 'Mutation Count', 'description': 'Mutation Count', 'datatype': 'NUMBER', 'patientAttribute': False, 'priority': '30', 'clinicalAttributeId': 'MUTATION_COUNT', 'studyId': 'msk_impact_2017'}, {'displayName': 'Oncotree Code', 'description': 'Oncotree Code', 'datatype': 'STRING', 'patientAttribute': False, 'priority': '1', 'clinicalAttributeId': 'ONCOTREE_CODE', 'studyId': 'msk_impact_2017'}, {'displayName': 'Overall Survival (Months)', 'description': 'Overall survival in months since date of sample collection.', 'datatype': 'NUMBER', 'patientAttribute': True, 'priority': '1', 'clinicalAttributeId': 'OS_MONTHS', 'studyId': 'msk_impact_2017'}, {'displayName': 'Overall Survival Status', 'description': 'Overall patient survival status.', 'datatype': 'STRING', 'patientAttribute': True, 'priority': '1', 'clinicalAttributeId': 'OS_STATUS', 'studyId': 'msk_impact_2017'}, {'displayName': 'Primary Tumor Site', 'description': 'Text term to describe the organ sub-division in an individual with cancer.', 'datatype': 'STRING', 'patientAttribute': False, 'priority': '1', 'clinicalAttributeId': 'PRIMARY_SITE', 'studyId': 'msk_impact_2017'}, {'displayName': 'Sample Class', 'description': 'The sample classification (i.e., tumor, cellline, xenograph).', 'datatype': 'STRING', 'patientAttribute': False, 'priority': '1', 'clinicalAttributeId': 'SAMPLE_CLASS', 'studyId': 'msk_impact_2017'}, {'displayName': 'Sample Collection Source', 'description': 'Sample Collection Source', 'datatype': 'STRING', 'patientAttribute': False, 'priority': '1', 'clinicalAttributeId': 'SAMPLE_COLLECTION_SOURCE', 'studyId': 'msk_impact_2017'}, {'displayName': 'Number of Samples Per Patient', 'description': 'Number of Samples Per Patient', 'datatype': 'STRING', 'patientAttribute': True, 'priority': '1', 'clinicalAttributeId': 'SAMPLE_COUNT', 'studyId': 'msk_impact_2017'}, {'displayName': 'Sample coverage', 'description': 'Sample coverage', 'datatype': 'NUMBER', 'patientAttribute': False, 'priority': '1', 'clinicalAttributeId': 'SAMPLE_COVERAGE', 'studyId': 'msk_impact_2017'}, {'displayName': 'Sample Type', 'description': 'The type of sample (i.e., normal, primary, met, recurrence).', 'datatype': 'STRING', 'patientAttribute': False, 'priority': '1', 'clinicalAttributeId': 'SAMPLE_TYPE', 'studyId': 'msk_impact_2017'}, {'displayName': 'Sex', 'description': 'Sex', 'datatype': 'STRING', 'patientAttribute': True, 'priority': '1', 'clinicalAttributeId': 'SEX', 'studyId': 'msk_impact_2017'}, {'displayName': 'Smoking History', 'description': 'Indicates if person has a history of smoking.', 'datatype': 'STRING', 'patientAttribute': True, 'priority': '1', 'clinicalAttributeId': 'SMOKING_HISTORY', 'studyId': 'msk_impact_2017'}, {'displayName': 'Somatic Status', 'description': 'Somatic Status', 'datatype': 'STRING', 'patientAttribute': False, 'priority': '1', 'clinicalAttributeId': 'SOMATIC_STATUS', 'studyId': 'msk_impact_2017'}, {'displayName': 'Specimen Preservation Type', 'description': 'The method used for preparing the tissue for examination and study.', 'datatype': 'STRING', 'patientAttribute': False, 'priority': '1', 'clinicalAttributeId': 'SPECIMEN_PRESERVATION_TYPE', 'studyId': 'msk_impact_2017'}, {'displayName': 'Specimen Type', 'description': 'The broad cancer phenotype and site information values for a sample to be processed.', 'datatype': 'STRING', 'patientAttribute': False, 'priority': '1', 'clinicalAttributeId': 'SPECIMEN_TYPE', 'studyId': 'msk_impact_2017'}, {'displayName': 'TMB (nonsynonymous)', 'description': 'TMB (nonsynonymous)', 'datatype': 'NUMBER', 'patientAttribute': False, 'priority': '1', 'clinicalAttributeId': 'TMB_NONSYNONYMOUS', 'studyId': 'msk_impact_2017'}, {'displayName': 'Tumor Purity', 'description': 'Tumor Purity', 'datatype': 'NUMBER', 'patientAttribute': False, 'priority': '1', 'clinicalAttributeId': 'TUMOR_PURITY', 'studyId': 'msk_impact_2017'}, {'displayName': \"Patient's Vital Status\", 'description': 'The survival state of the person.', 'datatype': 'STRING', 'patientAttribute': True, 'priority': '1', 'clinicalAttributeId': 'VITAL_STATUS', 'studyId': 'msk_impact_2017'}]\n",
      "[{'displayName': 'Age', 'description': 'Age', 'datatype': 'NUMBER', 'patientAttribute': True, 'priority': '1', 'clinicalAttributeId': 'AGE', 'studyId': 'metastatic_solid_tumors_mich_2017'}, {'displayName': 'Analysis Cohort', 'description': 'Analysis Cohort', 'datatype': 'STRING', 'patientAttribute': False, 'priority': '1', 'clinicalAttributeId': 'ANALYSIS_COHORT', 'studyId': 'metastatic_solid_tumors_mich_2017'}, {'displayName': 'APC Cluster', 'description': 'APC Cluster', 'datatype': 'STRING', 'patientAttribute': False, 'priority': '1', 'clinicalAttributeId': 'APC_CLUSTER', 'studyId': 'metastatic_solid_tumors_mich_2017'}, {'displayName': 'Biopsy Site', 'description': 'Biopsy Site', 'datatype': 'STRING', 'patientAttribute': False, 'priority': '1', 'clinicalAttributeId': 'BIOPSY_SITE', 'studyId': 'metastatic_solid_tumors_mich_2017'}, {'displayName': 'Cancer Type', 'description': 'Cancer Type', 'datatype': 'STRING', 'patientAttribute': False, 'priority': '1', 'clinicalAttributeId': 'CANCER_TYPE', 'studyId': 'metastatic_solid_tumors_mich_2017'}, {'displayName': 'Cancer Type Detailed', 'description': 'Cancer Type Detailed', 'datatype': 'STRING', 'patientAttribute': False, 'priority': '1', 'clinicalAttributeId': 'CANCER_TYPE_DETAILED', 'studyId': 'metastatic_solid_tumors_mich_2017'}, {'displayName': 'Fraction Genome Altered', 'description': 'Fraction Genome Altered', 'datatype': 'NUMBER', 'patientAttribute': False, 'priority': '20', 'clinicalAttributeId': 'FRACTION_GENOME_ALTERED', 'studyId': 'metastatic_solid_tumors_mich_2017'}, {'displayName': 'Immune Cluster', 'description': 'Immune Cluster', 'datatype': 'STRING', 'patientAttribute': False, 'priority': '1', 'clinicalAttributeId': 'IMMUNE_CLUSTER', 'studyId': 'metastatic_solid_tumors_mich_2017'}, {'displayName': 'Infiltration Nomination', 'description': 'Infiltration Nomination', 'datatype': 'STRING', 'patientAttribute': False, 'priority': '1', 'clinicalAttributeId': 'INFILTRATION_NOMINATION', 'studyId': 'metastatic_solid_tumors_mich_2017'}, {'displayName': 'Interval (Months)', 'description': 'Time in nearest month of interval between initial diagnosis of primary cancer and biopsy of metastatic site used in this study', 'datatype': 'NUMBER', 'patientAttribute': True, 'priority': '1', 'clinicalAttributeId': 'INTERVAL_MONTHS', 'studyId': 'metastatic_solid_tumors_mich_2017'}, {'displayName': 'Mimm Score', 'description': 'Mimm Score', 'datatype': 'NUMBER', 'patientAttribute': False, 'priority': '1', 'clinicalAttributeId': 'MIMM_SCORE', 'studyId': 'metastatic_solid_tumors_mich_2017'}, {'displayName': 'Mutation Count', 'description': 'Mutation Count', 'datatype': 'NUMBER', 'patientAttribute': False, 'priority': '30', 'clinicalAttributeId': 'MUTATION_COUNT', 'studyId': 'metastatic_solid_tumors_mich_2017'}, {'displayName': '# TCRb clones', 'description': '# TCRb clones', 'datatype': 'NUMBER', 'patientAttribute': False, 'priority': '1', 'clinicalAttributeId': 'NUM_TCRB_CLONES', 'studyId': 'metastatic_solid_tumors_mich_2017'}, {'displayName': '# TCRb templates', 'description': '# TCRb templates', 'datatype': 'NUMBER', 'patientAttribute': False, 'priority': '1', 'clinicalAttributeId': 'NUM_TCRB_TEMPLATE', 'studyId': 'metastatic_solid_tumors_mich_2017'}, {'displayName': 'Oncotree Code', 'description': 'Oncotree Code', 'datatype': 'STRING', 'patientAttribute': False, 'priority': '1', 'clinicalAttributeId': 'ONCOTREE_CODE', 'studyId': 'metastatic_solid_tumors_mich_2017'}, {'displayName': 'Other Cancer History', 'description': 'Other Cancer History', 'datatype': 'STRING', 'patientAttribute': True, 'priority': '1', 'clinicalAttributeId': 'OTHER_CANCER_HISTORY', 'studyId': 'metastatic_solid_tumors_mich_2017'}, {'displayName': 'Primary Tumor Site', 'description': 'Text term to describe the organ sub-division in an individual with cancer.', 'datatype': 'STRING', 'patientAttribute': False, 'priority': '1', 'clinicalAttributeId': 'PRIMARY_SITE', 'studyId': 'metastatic_solid_tumors_mich_2017'}, {'displayName': 'Prior Therapy', 'description': 'Systemic or radiation therapy in the interval between initial diagnosis and metastatic biopsy', 'datatype': 'STRING', 'patientAttribute': True, 'priority': '1', 'clinicalAttributeId': 'PRIOR_THERAPY', 'studyId': 'metastatic_solid_tumors_mich_2017'}, {'displayName': ' Race Category', 'description': 'The text for reporting information about race.', 'datatype': 'STRING', 'patientAttribute': True, 'priority': '1', 'clinicalAttributeId': 'RACE', 'studyId': 'metastatic_solid_tumors_mich_2017'}, {'displayName': 'Number of Samples Per Patient', 'description': 'Number of Samples Per Patient', 'datatype': 'STRING', 'patientAttribute': True, 'priority': '1', 'clinicalAttributeId': 'SAMPLE_COUNT', 'studyId': 'metastatic_solid_tumors_mich_2017'}, {'displayName': 'Sample Type', 'description': 'The type of sample (i.e., normal, primary, met, recurrence).', 'datatype': 'STRING', 'patientAttribute': False, 'priority': '1', 'clinicalAttributeId': 'SAMPLE_TYPE', 'studyId': 'metastatic_solid_tumors_mich_2017'}, {'displayName': 'Sex', 'description': 'Sex', 'datatype': 'STRING', 'patientAttribute': True, 'priority': '1', 'clinicalAttributeId': 'SEX', 'studyId': 'metastatic_solid_tumors_mich_2017'}, {'displayName': 'Somatic Status', 'description': 'Somatic Status', 'datatype': 'STRING', 'patientAttribute': False, 'priority': '1', 'clinicalAttributeId': 'SOMATIC_STATUS', 'studyId': 'metastatic_solid_tumors_mich_2017'}, {'displayName': 'STROMA Score', 'description': 'STROMA Score', 'datatype': 'NUMBER', 'patientAttribute': False, 'priority': '1', 'clinicalAttributeId': 'STROMA_SCORE', 'studyId': 'metastatic_solid_tumors_mich_2017'}, {'displayName': 'TMB (nonsynonymous)', 'description': 'TMB (nonsynonymous)', 'datatype': 'NUMBER', 'patientAttribute': False, 'priority': '1', 'clinicalAttributeId': 'TMB_NONSYNONYMOUS', 'studyId': 'metastatic_solid_tumors_mich_2017'}, {'displayName': 'Tumor Content', 'description': 'Tumor Content', 'datatype': 'NUMBER', 'patientAttribute': False, 'priority': '1', 'clinicalAttributeId': 'TUMOR_CONTENT', 'studyId': 'metastatic_solid_tumors_mich_2017'}, {'displayName': 'T-cell Cluster', 'description': 'T-cell Cluster', 'datatype': 'STRING', 'patientAttribute': False, 'priority': '1', 'clinicalAttributeId': 'T_CELL_CLUSTER', 'studyId': 'metastatic_solid_tumors_mich_2017'}]\n"
     ]
    }
   ],
   "source": [
    "# Request list of patient's samples. Take first sampleId\n",
    "r = requests.get(url = \"https://www.cbioportal.org/api/studies/msk_impact_2017/patients/P-0000004/samples?projection=SUMMARY&pageSize=10&pageNumber=0&direction=ASC\")\n",
    "pPatientData = r.json()\n",
    "pSample = pPatientData[0]\n",
    "pSampleId = pSample['sampleId']\n",
    "print (pPatientData)\n",
    "print(pSampleId)\n",
    "# Get clincial data from the first sample\n",
    "s = requests.get(url = \"https://www.cbioportal.org/api/studies/msk_impact_2017/samples/P-0000004-T01-IM3/clinical-data?attributeId=CANCER_TYPE&projection=SUMMARY&pageSize=10000000&pageNumber=0&direction=ASC\")\n",
    "pAttribute = s.json()[0]\n",
    "pAttributeValue = pAttribute['value']\n",
    "# initialize list of studies\n",
    "studyList = [\"msk_impact_2017\", \"metastatic_solid_tumors_mich_2017\"]\n",
    "# loop through studies\n",
    "for study in studyList:\n",
    "    # check if attribute is applicable. if not, break\n",
    "    t = requests.get(url=f\"https://www.cbioportal.org/api/studies/{study}/clinical-attributes?projection=SUMMARY&pageSize=10000000&pageNumber=0&direction=ASC\")\n",
    "    listOfAttributes = t.json()\n",
    "    print (listOfAttributes)\n",
    "    for attribute in listOfAttributes:\n",
    "        if attribute['clinicalAttributeId'] == \"CANCER_TYPE\":\n",
    "            \n",
    "            # get list of patients\n",
    "            u = requests.get(url=f\"https://www.cbioportal.org/api/studies/{study}/patients?projection=SUMMARY&pageSize=10000000&pageNumber=0&direction=ASC\")\n",
    "            patientIdList = u.json()\n",
    "            # loop through patients, requesting their samples and then using the Ids to find the attribute (see first patient)\n",
    "            for Id in patientIdList:\n",
    "                currentPatientId = Id['patientId']\n",
    "                v = requests.get(url=f\"https://www.cbioportal.org/api/studies/{study}/patients/{currentPatientId}/samples?projection=SUMMARY&pageSize=10000000&pageNumber=0&direction=ASC\")\n",
    "                currentSamples = v.json()\n",
    "                # following loop requests each sample and checks for the attribute, prints if match\n",
    "                for sample in currentSamples:\n",
    "                    currentSampleId = sample['sampleId']\n",
    "                    w = requests.get(url=f\"https://www.cbioportal.org/api/studies/{study}/samples/{currentSampleId}/clinical-data?attributeId=CANCER_TYPE&projection=SUMMARY&pageSize=10000000&pageNumber=0&direction=ASC\")\n",
    "                    currentSample = w.json()[0]\n",
    "                    currentSampleValue = currentSample['value']\n",
    "                    if currentSampleValue == pAttributeValue:\n",
    "                        print(currentPatientId)\n",
    "                    \n",
    "\n",
    "\n"
   ]
  }
 ],
 "metadata": {
  "kernelspec": {
   "display_name": "venv",
   "language": "python",
   "name": "python3"
  },
  "language_info": {
   "codemirror_mode": {
    "name": "ipython",
    "version": 3
   },
   "file_extension": ".py",
   "mimetype": "text/x-python",
   "name": "python",
   "nbconvert_exporter": "python",
   "pygments_lexer": "ipython3",
   "version": "3.10.14"
  }
 },
 "nbformat": 4,
 "nbformat_minor": 2
}
