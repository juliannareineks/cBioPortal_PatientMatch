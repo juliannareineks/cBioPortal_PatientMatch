{
 "cells": [
  {
   "cell_type": "code",
   "execution_count": null,
   "metadata": {},
   "outputs": [],
   "source": [
    "import requests\n",
    "import json"
   ]
  },
  {
   "cell_type": "code",
   "execution_count": null,
   "metadata": {},
   "outputs": [],
   "source": [
    "r = requests.get(url=\"https://www.cbioportal.org/api/health\")\n",
    "print (r.json())\n",
    "print (r.status_code)"
   ]
  },
  {
   "cell_type": "markdown",
   "metadata": {},
   "source": [
    "Part 1: Retrieve and display patient data. User must provide a valid patient and study Id. \n",
    "Example uses\n",
    "patient: P-0000004 \n",
    "study: msk_impact_2017"
   ]
  },
  {
   "cell_type": "code",
   "execution_count": 33,
   "metadata": {},
   "outputs": [
    {
     "name": "stdout",
     "output_type": "stream",
     "text": [
      "[{'uniquePatientKey': 'UC0wMDAwMDA0Om1za19pbXBhY3RfMjAxNw', 'patientId': 'P-0000004', 'studyId': 'msk_impact_2017', 'clinicalAttributeId': 'OS_STATUS', 'value': '0:LIVING'}, {'uniquePatientKey': 'UC0wMDAwMDA0Om1za19pbXBhY3RfMjAxNw', 'patientId': 'P-0000004', 'studyId': 'msk_impact_2017', 'clinicalAttributeId': 'SAMPLE_COUNT', 'value': '1'}, {'uniquePatientKey': 'UC0wMDAwMDA0Om1za19pbXBhY3RfMjAxNw', 'patientId': 'P-0000004', 'studyId': 'msk_impact_2017', 'clinicalAttributeId': 'SEX', 'value': 'Female'}, {'uniquePatientKey': 'UC0wMDAwMDA0Om1za19pbXBhY3RfMjAxNw', 'patientId': 'P-0000004', 'studyId': 'msk_impact_2017', 'clinicalAttributeId': 'SMOKING_HISTORY', 'value': 'Unknown'}, {'uniquePatientKey': 'UC0wMDAwMDA0Om1za19pbXBhY3RfMjAxNw', 'patientId': 'P-0000004', 'studyId': 'msk_impact_2017', 'clinicalAttributeId': 'VITAL_STATUS', 'value': 'ALIVE'}]\n"
     ]
    }
   ],
   "source": [
    "r = requests.get(url=\"https://www.cbioportal.org/api/studies/msk_impact_2017/patients/P-0000004/clinical-data\")\n",
    "x = r.json()\n",
    "print (x)"
   ]
  },
  {
   "cell_type": "markdown",
   "metadata": {},
   "source": [
    "Part 2: Find patients similar to a specified patient. Search within the same study, uses one criteria. \n",
    "Example uses\n",
    "patient: P-0000004 \n",
    "study: msk_impact_2017\n",
    "attribute (not recorded across all studies): SMOKING_HISTORY"
   ]
  },
  {
   "cell_type": "code",
   "execution_count": 38,
   "metadata": {},
   "outputs": [
    {
     "name": "stdout",
     "output_type": "stream",
     "text": [
      "{'uniquePatientKey': 'UC0wMDAwMDA0Om1za19pbXBhY3RfMjAxNw', 'patientId': 'P-0000004', 'studyId': 'msk_impact_2017', 'clinicalAttributeId': 'SMOKING_HISTORY', 'value': 'Unknown'}\n",
      "patients\n",
      "P-0000004\n",
      "P-0000030\n"
     ]
    }
   ],
   "source": [
    "# get patient attribute\n",
    "r = requests.get(url=\"https://www.cbioportal.org/api/studies/msk_impact_2017/patients/P-0000004/clinical-data?attributeId=SMOKING_HISTORY&projection=SUMMARY&pageSize=10000000&pageNumber=0&direction=ASC\")\n",
    "# parse for correct item (attribute)\n",
    "# x in the following line returns a list with the keyval pairs, it needs to be taken out of the list to be parsed in the next line\n",
    "x = r.json()\n",
    "y = x[0]\n",
    "pval = y['value']\n",
    "print (y)\n",
    "# Get list of patients from study\n",
    "print (\"patients\")\n",
    "rs = requests.get(url=\"https://www.cbioportal.org/api/studies/msk_impact_2017/clinical-data?attributeId=SMOKING_HISTORY&clinicalDataType=PATIENT&projection=SUMMARY&pageSize=10&pageNumber=0&direction=ASC\")\n",
    "clist = rs.json()\n",
    "for a in clist:\n",
    "    if a['value'] == y['value']:\n",
    "        print (a['patientId'])"
   ]
  }
 ],
 "metadata": {
  "kernelspec": {
   "display_name": "venv",
   "language": "python",
   "name": "python3"
  },
  "language_info": {
   "codemirror_mode": {
    "name": "ipython",
    "version": 3
   },
   "file_extension": ".py",
   "mimetype": "text/x-python",
   "name": "python",
   "nbconvert_exporter": "python",
   "pygments_lexer": "ipython3",
   "version": "3.10.14"
  }
 },
 "nbformat": 4,
 "nbformat_minor": 2
}
