{
 "cells": [
  {
   "cell_type": "code",
   "execution_count": null,
   "metadata": {},
   "outputs": [],
   "source": [
    "import requests\n",
    "import json"
   ]
  },
  {
   "cell_type": "code",
   "execution_count": null,
   "metadata": {},
   "outputs": [],
   "source": [
    "r = requests.get(url=\"https://www.cbioportal.org/api/health\")\n",
    "print (r.json())\n",
    "print (r.status_code)"
   ]
  },
  {
   "cell_type": "markdown",
   "metadata": {},
   "source": [
    "Part 1: Retrieve and display patient data. User must provide a valid patient and study Id. \n",
    "Example uses\n",
    "patient: P-0000004 \n",
    "study: msk_impact_2017"
   ]
  },
  {
   "cell_type": "code",
   "execution_count": null,
   "metadata": {},
   "outputs": [],
   "source": [
    "r = requests.get(url=\"https://www.cbioportal.org/api/studies/msk_impact_2017/patients/P-0000004/clinical-data\")\n",
    "x = r.json()\n",
    "print (x)"
   ]
  },
  {
   "cell_type": "markdown",
   "metadata": {},
   "source": [
    "Part 2: Find patients similar to a specified patient. Search within the same study, uses one criteria. \n",
    "Example uses\n",
    "patient: P-0000004 \n",
    "study: msk_impact_2017\n",
    "attribute (not recorded across all studies): SMOKING_HISTORY"
   ]
  },
  {
   "cell_type": "code",
   "execution_count": null,
   "metadata": {},
   "outputs": [],
   "source": [
    "# get patient attribute\n",
    "r = requests.get(url=\"https://www.cbioportal.org/api/studies/msk_impact_2017/patients/P-0000004/clinical-data?attributeId=SMOKING_HISTORY&projection=SUMMARY&pageSize=10000000&pageNumber=0&direction=ASC\")\n",
    "# parse for correct item (attribute)\n",
    "# x in the following line returns a list with the keyval pairs, it needs to be taken out of the list to be parsed in the next line\n",
    "x = r.json()\n",
    "y = x[0]\n",
    "pval = y['value']\n",
    "print (y['clinicalAttributeId'])\n",
    "print (pval)\n",
    "# Get list of patients from study\n",
    "print (\"matching patients\")\n",
    "rs = requests.get(url=\"https://www.cbioportal.org/api/studies/msk_impact_2017/clinical-data?attributeId=SMOKING_HISTORY&clinicalDataType=PATIENT&projection=SUMMARY&pageSize=20000&pageNumber=0&direction=ASC\")\n",
    "clist = rs.json()\n",
    "for a in clist:\n",
    "    if a['value'] == y['value']:\n",
    "        print (a['patientId'])"
   ]
  },
  {
   "cell_type": "markdown",
   "metadata": {},
   "source": [
    "Part 3: Find patients similar to a specified patient across multiple studies. Uses one criterion, needs to check if the criteria is available in other studies. If using a criteria not availible in all studies, it may be possible to find attributes with similar names or purposes (ex SMOKING_HISTORY vs SMOKE STATUS vs SMOKING_STATUS) that may not be picked up.\n",
    "https://www.cbioportal.org/study/summary?id=nsclc_tcga_broad_2016 and https://www.cbioportal.org/study/summary?id=msk_impact_2017 both have SMOKING_HISTORY, but the response types are different. This requires parsing sample data instead of patient data.\n",
    "Example uses\n",
    "patient:  P-0000004\n",
    "studies: msk_impact_2017, metastatic_solid_tumors_mich_2017\n",
    "attribute: CANCER_TYPE\n",
    "\n",
    "First draft: 10836 samples, took 52 minutes\n",
    "- need to break after first sample match found \n",
    "- reduce number of database queries? \n"
   ]
  },
  {
   "cell_type": "code",
   "execution_count": null,
   "metadata": {},
   "outputs": [],
   "source": [
    "# Request list of patient's samples. Take first sampleId\n",
    "r = requests.get(url = \"https://www.cbioportal.org/api/studies/msk_impact_2017/patients/P-0000004/samples?projection=SUMMARY&pageSize=10&pageNumber=0&direction=ASC\")\n",
    "pPatientData = r.json()\n",
    "pSample = pPatientData[0]\n",
    "pSampleId = pSample['sampleId']\n",
    "print (pPatientData)\n",
    "print(pSampleId)\n",
    "# Get clincial data from the first sample\n",
    "s = requests.get(url = \"https://www.cbioportal.org/api/studies/msk_impact_2017/samples/P-0000004-T01-IM3/clinical-data?attributeId=CANCER_TYPE&projection=SUMMARY&pageSize=10000000&pageNumber=0&direction=ASC\")\n",
    "pAttribute = s.json()[0]\n",
    "pAttributeValue = pAttribute['value']\n",
    "# initialize list of studies\n",
    "studyList = [\"msk_impact_2017\", \"metastatic_solid_tumors_mich_2017\"]\n",
    "# loop through studies\n",
    "for study in studyList:\n",
    "    # check if attribute is applicable. if not, break\n",
    "    t = requests.get(url=f\"https://www.cbioportal.org/api/studies/{study}/clinical-attributes?projection=SUMMARY&pageSize=10000000&pageNumber=0&direction=ASC\")\n",
    "    listOfAttributes = t.json()\n",
    "    print (listOfAttributes)\n",
    "    for attribute in listOfAttributes:\n",
    "        if attribute['clinicalAttributeId'] == \"CANCER_TYPE\":\n",
    "            \n",
    "            # get list of patients\n",
    "            u = requests.get(url=f\"https://www.cbioportal.org/api/studies/{study}/patients?projection=SUMMARY&pageSize=10000000&pageNumber=0&direction=ASC\")\n",
    "            patientIdList = u.json()\n",
    "            # loop through patients, requesting their samples and then using the Ids to find the attribute (see first patient)\n",
    "            for Id in patientIdList:\n",
    "                currentPatientId = Id['patientId']\n",
    "                v = requests.get(url=f\"https://www.cbioportal.org/api/studies/{study}/patients/{currentPatientId}/samples?projection=SUMMARY&pageSize=10000000&pageNumber=0&direction=ASC\")\n",
    "                currentSamples = v.json()\n",
    "                # following loop requests each sample and checks for the attribute, prints if match\n",
    "                for sample in currentSamples:\n",
    "                    currentSampleId = sample['sampleId']\n",
    "                    w = requests.get(url=f\"https://www.cbioportal.org/api/studies/{study}/samples/{currentSampleId}/clinical-data?attributeId=CANCER_TYPE&projection=SUMMARY&pageSize=10000000&pageNumber=0&direction=ASC\")\n",
    "                    currentSample = w.json()[0]\n",
    "                    currentSampleValue = currentSample['value']\n",
    "                    if currentSampleValue == pAttributeValue:\n",
    "                        print(currentPatientId)\n",
    "                        # break when one correct sample is found\n",
    "                        break\n",
    "                    \n",
    "\n",
    "\n"
   ]
  },
  {
   "cell_type": "markdown",
   "metadata": {},
   "source": [
    "Part 4: Find patients among multiple studies that match more than one criteria of a specified patient. Need to check for all criteria in the studies checked. "
   ]
  }
 ],
 "metadata": {
  "kernelspec": {
   "display_name": "venv",
   "language": "python",
   "name": "python3"
  },
  "language_info": {
   "codemirror_mode": {
    "name": "ipython",
    "version": 3
   },
   "file_extension": ".py",
   "mimetype": "text/x-python",
   "name": "python",
   "nbconvert_exporter": "python",
   "pygments_lexer": "ipython3",
   "version": "3.10.14"
  }
 },
 "nbformat": 4,
 "nbformat_minor": 2
}
