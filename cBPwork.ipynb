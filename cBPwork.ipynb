{
 "cells": [
  {
   "cell_type": "code",
   "execution_count": 2,
   "metadata": {},
   "outputs": [],
   "source": [
    "import requests"
   ]
  },
  {
   "cell_type": "code",
   "execution_count": 6,
   "metadata": {},
   "outputs": [
    {
     "name": "stdout",
     "output_type": "stream",
     "text": [
      "{'status': 'UP'}\n",
      "200\n"
     ]
    }
   ],
   "source": [
    "r = requests.get(url=\"https://www.cbioportal.org/api/health\")\n",
    "print (r.json())\n",
    "print (r.status_code)"
   ]
  },
  {
   "cell_type": "markdown",
   "metadata": {},
   "source": [
    "Part 1: Retrieve and display patient data. User must provide a valid patient and study Id. \n",
    "Example uses\n",
    "patient: P-0000004 \n",
    "study: msk_impact_2017"
   ]
  },
  {
   "cell_type": "code",
   "execution_count": 7,
   "metadata": {},
   "outputs": [
    {
     "name": "stdout",
     "output_type": "stream",
     "text": [
      "[{'uniquePatientKey': 'UC0wMDAwMDA0Om1za19pbXBhY3RfMjAxNw', 'patientId': 'P-0000004', 'studyId': 'msk_impact_2017', 'clinicalAttributeId': 'OS_STATUS', 'value': '0:LIVING'}, {'uniquePatientKey': 'UC0wMDAwMDA0Om1za19pbXBhY3RfMjAxNw', 'patientId': 'P-0000004', 'studyId': 'msk_impact_2017', 'clinicalAttributeId': 'SAMPLE_COUNT', 'value': '1'}, {'uniquePatientKey': 'UC0wMDAwMDA0Om1za19pbXBhY3RfMjAxNw', 'patientId': 'P-0000004', 'studyId': 'msk_impact_2017', 'clinicalAttributeId': 'SEX', 'value': 'Female'}, {'uniquePatientKey': 'UC0wMDAwMDA0Om1za19pbXBhY3RfMjAxNw', 'patientId': 'P-0000004', 'studyId': 'msk_impact_2017', 'clinicalAttributeId': 'SMOKING_HISTORY', 'value': 'Unknown'}, {'uniquePatientKey': 'UC0wMDAwMDA0Om1za19pbXBhY3RfMjAxNw', 'patientId': 'P-0000004', 'studyId': 'msk_impact_2017', 'clinicalAttributeId': 'VITAL_STATUS', 'value': 'ALIVE'}]\n"
     ]
    }
   ],
   "source": [
    "r = requests.get(url=\"https://www.cbioportal.org/api/studies/msk_impact_2017/patients/P-0000004/clinical-data\")\n",
    "print (r.json())\n",
    "# look for nicer way to print than just a straight line of key/val pairs"
   ]
  }
 ],
 "metadata": {
  "kernelspec": {
   "display_name": "venv",
   "language": "python",
   "name": "python3"
  },
  "language_info": {
   "codemirror_mode": {
    "name": "ipython",
    "version": 3
   },
   "file_extension": ".py",
   "mimetype": "text/x-python",
   "name": "python",
   "nbconvert_exporter": "python",
   "pygments_lexer": "ipython3",
   "version": "3.10.14"
  }
 },
 "nbformat": 4,
 "nbformat_minor": 2
}
