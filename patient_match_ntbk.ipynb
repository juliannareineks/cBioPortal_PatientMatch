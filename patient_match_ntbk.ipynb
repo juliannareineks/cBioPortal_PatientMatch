{
 "cells": [
  {
   "cell_type": "markdown",
   "metadata": {},
   "source": [
    "Project: develop a patient match application. \n",
    "\n",
    "Ways to search: \n",
    "- A patient and study are specified by the user. User also selects criteria to narrow from this patient. \n",
    "- User selects criteria from lists to find patients with matching qualities\n",
    "The user identifies studies to search through.\n"
   ]
  },
  {
   "cell_type": "code",
   "execution_count": 4,
   "metadata": {},
   "outputs": [],
   "source": [
    "import requests\n",
    "import typer\n",
    "from typing_extensions import Annotated"
   ]
  },
  {
   "cell_type": "code",
   "execution_count": null,
   "metadata": {},
   "outputs": [],
   "source": [
    "# Application to match and search for patients with specified criteria and studies\n",
    "\n",
    "# define lists of criteria \n",
    "genderList = [\"Female\", \"Male\", \"Unidentified\"]\n",
    "# currently no efficent way to check, per patient, mutations (unavailable by searching w/ sample or patient Ids)\n",
    "# mutationList = []\n",
    "# maybe have cancer types as user-defined instead? \n",
    "cancerTypeList = [\"Breast Cancer\", \"Non-Small Cell Lung Cancer\", \"Esophagogastric Cancer\", \"Colorectal Cancer\", \"Head and Neck Cancer\", \"Glioblastoma\", \"Prostate Cancer\", \"Leukemia\", \"Melanoma\", \"Bladder Cancer\", \"Renal Cell Carcinoma\", \"Pancreatic Cancer\"]\n",
    "overallSurvivalStatusList = [\"Alive\", \"Deceased\", \"N/A\"]\n",
    "sampleTypeList = [\"Metastasis\", \"Primary\", \"Recurrence\"]\n",
    "# studyList = []\n",
    "\n",
    "\n",
    "# Methods\n",
    "# fetchPatientSamples uses requests to get all of a pateint's samples\n",
    "def fetchPatientSamples(patientId: str, studyId: str):\n",
    "    return requests.get(buildURL(\"samples\", studyId, patientId, None, None)).json()  \n",
    "\n",
    "# fetchSampleClinicalDataAttribute takes a sample and pulls only the specified attribute\n",
    "def fetchSampleClinicalDataAttribute(studyId: str, sampleId: str, attribute: str):\n",
    "    return requests.get(buildURL(\"clinical-data\", studyId, None, sampleId, attribute)).json()\n",
    "\n",
    "# fetchClinicalAttributesStudy gets a list of all clinical attribute fields in a study\n",
    "def fetchClinicalAttributesStudy(studyId: str):\n",
    "    return requests.get(buildURL(\"clinical-attributes\", studyId, None, None, None)).json()\n",
    "\n",
    "# fetchPateintList gets a list of all patients in a study (does not include detailed info)\n",
    "def fetchPatientList(studyId: str):\n",
    "    return requests.get(buildURL(\"patients\", studyId, None, None, None)).json()\n",
    "\n",
    "# IMPORTANT: how to get mutations from sampleID? It's not a part of patient or sample clinical data\n",
    "# I checked the API, you cannot get mutation data by patient. You have to obtain a MolecularProfileId, which when\n",
    "# entered into a mutation search will give a list of every mutation instance in the study by sample by patient \n",
    "# It actually might be under Gene Panel Data, but there are a lot of hoops to jump through; even then, it would jsut provide a\n",
    "# a list of samples that have the narrowed criteria when you use the corect sampleListId\n",
    "\n",
    "# Methods for command line/typer prompts\n",
    "# getUserStudies\n",
    "def getUserPreference(response: Annotated[chr, typer.Option(prompt=\"Would you like to \")]):\n",
    "    return 0\n",
    "\n",
    "\n",
    "\n",
    "# build URL\n",
    "#URL structures: \n",
    "#ALWAYS start with: https://www.cbioportal.org/api/studies/{studyId}/\n",
    "#endings that do not require more information oare patient list and clinical attributes of a study\n",
    "#endings that do require more variables include sample data clinical attribute (SampleId, Attribute) and samples of a patient (PatientId)\n",
    "#returns 0 when no url type is specified, leave fields with no bearing as None. Can change to a number system if overlaps occur later.\n",
    "def buildURL(type: str, studyId: str, patientId: str, sampleId: str, attributeId :str) -> str|None:\n",
    "    urlFirstPiece = f\"https://www.cbioportal.org/api/studies/{studyId}/\"\n",
    "    urlEndPiece = \"projection=SUMMARY&pageSize=200000&pageNumber=0&direction=ASC\"\n",
    "    if type == \"samples\":\n",
    "         return f\"{urlFirstPiece}patients/{patientId}/{type}?{urlEndPiece}\"\n",
    "    elif type == \"clinical-data\":\n",
    "        return f\"{urlFirstPiece}samples/{sampleId}/{type}?attributeId={attributeId}&{urlEndPiece}\"\n",
    "    elif type == \"clinical-attributes\":\n",
    "        return f\"{urlFirstPiece}{type}?{urlEndPiece}\"\n",
    "    elif type == \"patients\":\n",
    "        return f\"{urlFirstPiece}{type}?{urlEndPiece}\"\n",
    "        \n",
    "    return None\n",
    "\n",
    "# get information, either "
   ]
  }
 ],
 "metadata": {
  "kernelspec": {
   "display_name": "venv",
   "language": "python",
   "name": "python3"
  },
  "language_info": {
   "codemirror_mode": {
    "name": "ipython",
    "version": 3
   },
   "file_extension": ".py",
   "mimetype": "text/x-python",
   "name": "python",
   "nbconvert_exporter": "python",
   "pygments_lexer": "ipython3",
   "version": "3.10.14"
  }
 },
 "nbformat": 4,
 "nbformat_minor": 2
}
